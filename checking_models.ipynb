{
 "cells": [
  {
   "cell_type": "code",
   "execution_count": 5,
   "metadata": {},
   "outputs": [],
   "source": [
    "from transformers import AutoModelForCausalLM, AutoTokenizer"
   ]
  },
  {
   "cell_type": "code",
   "execution_count": 8,
   "metadata": {},
   "outputs": [
    {
     "name": "stdout",
     "output_type": "stream",
     "text": [
      "\u001b[0m\u001b[01;34mbatok_13200_safetesnors\u001b[0m/  \u001b[01;34mMeta-Llama-3.1-8B-Instruct\u001b[0m/\n"
     ]
    }
   ],
   "source": [
    "ls checkpoints"
   ]
  },
  {
   "cell_type": "code",
   "execution_count": 10,
   "metadata": {},
   "outputs": [],
   "source": [
    "path = \"checkpoints\"\n",
    "tokenizer_o = AutoTokenizer.from_pretrained(f\"{path}/Meta-Llama-3.1-8B-Instruct\")\n",
    "tokenizer_b = AutoTokenizer.from_pretrained(f\"{path}/batok_13200_safetesnors\")"
   ]
  },
  {
   "cell_type": "code",
   "execution_count": 11,
   "metadata": {},
   "outputs": [
    {
     "data": {
      "text/plain": [
       "'{{- bos_token }}\\n{%- if custom_tools is defined %}\\n    {%- set tools = custom_tools %}\\n{%- endif %}\\n{%- if not tools_in_user_message is defined %}\\n    {%- set tools_in_user_message = true %}\\n{%- endif %}\\n{%- if not date_string is defined %}\\n    {%- set date_string = \"26 Jul 2024\" %}\\n{%- endif %}\\n{%- if not tools is defined %}\\n    {%- set tools = none %}\\n{%- endif %}\\n\\n{#- This block extracts the system message, so we can slot it into the right place. #}\\n{%- if messages[0][\\'role\\'] == \\'system\\' %}\\n    {%- set system_message = messages[0][\\'content\\']|trim %}\\n    {%- set messages = messages[1:] %}\\n{%- else %}\\n    {%- set system_message = \"\" %}\\n{%- endif %}\\n\\n{#- System message + builtin tools #}\\n{{- \"<|start_header_id|>system<|end_header_id|>\\\\n\\\\n\" }}\\n{%- if builtin_tools is defined or tools is not none %}\\n    {{- \"Environment: ipython\\\\n\" }}\\n{%- endif %}\\n{%- if builtin_tools is defined %}\\n    {{- \"Tools: \" + builtin_tools | reject(\\'equalto\\', \\'code_interpreter\\') | join(\", \") + \"\\\\n\\\\n\"}}\\n{%- endif %}\\n{{- \"Cutting Knowledge Date: December 2023\\\\n\" }}\\n{{- \"Today Date: \" + date_string + \"\\\\n\\\\n\" }}\\n{%- if tools is not none and not tools_in_user_message %}\\n    {{- \"You have access to the following functions. To call a function, please respond with JSON for a function call.\" }}\\n    {{- \\'Respond in the format {\"name\": function name, \"parameters\": dictionary of argument name and its value}.\\' }}\\n    {{- \"Do not use variables.\\\\n\\\\n\" }}\\n    {%- for t in tools %}\\n        {{- t | tojson(indent=4) }}\\n        {{- \"\\\\n\\\\n\" }}\\n    {%- endfor %}\\n{%- endif %}\\n{{- system_message }}\\n{{- \"<|eot_id|>\" }}\\n\\n{#- Custom tools are passed in a user message with some extra guidance #}\\n{%- if tools_in_user_message and not tools is none %}\\n    {#- Extract the first user message so we can plug it in here #}\\n    {%- if messages | length != 0 %}\\n        {%- set first_user_message = messages[0][\\'content\\']|trim %}\\n        {%- set messages = messages[1:] %}\\n    {%- else %}\\n        {{- raise_exception(\"Cannot put tools in the first user message when there\\'s no first user message!\") }}\\n{%- endif %}\\n    {{- \\'<|start_header_id|>user<|end_header_id|>\\\\n\\\\n\\' -}}\\n    {{- \"Given the following functions, please respond with a JSON for a function call \" }}\\n    {{- \"with its proper arguments that best answers the given prompt.\\\\n\\\\n\" }}\\n    {{- \\'Respond in the format {\"name\": function name, \"parameters\": dictionary of argument name and its value}.\\' }}\\n    {{- \"Do not use variables.\\\\n\\\\n\" }}\\n    {%- for t in tools %}\\n        {{- t | tojson(indent=4) }}\\n        {{- \"\\\\n\\\\n\" }}\\n    {%- endfor %}\\n    {{- first_user_message + \"<|eot_id|>\"}}\\n{%- endif %}\\n\\n{%- for message in messages %}\\n    {%- if not (message.role == \\'ipython\\' or message.role == \\'tool\\' or \\'tool_calls\\' in message) %}\\n        {{- \\'<|start_header_id|>\\' + message[\\'role\\'] + \\'<|end_header_id|>\\\\n\\\\n\\'+ message[\\'content\\'] | trim + \\'<|eot_id|>\\' }}\\n    {%- elif \\'tool_calls\\' in message %}\\n        {%- if not message.tool_calls|length == 1 %}\\n            {{- raise_exception(\"This model only supports single tool-calls at once!\") }}\\n        {%- endif %}\\n        {%- set tool_call = message.tool_calls[0].function %}\\n        {%- if builtin_tools is defined and tool_call.name in builtin_tools %}\\n            {{- \\'<|start_header_id|>assistant<|end_header_id|>\\\\n\\\\n\\' -}}\\n            {{- \"<|python_tag|>\" + tool_call.name + \".call(\" }}\\n            {%- for arg_name, arg_val in tool_call.arguments | items %}\\n                {{- arg_name + \\'=\"\\' + arg_val + \\'\"\\' }}\\n                {%- if not loop.last %}\\n                    {{- \", \" }}\\n                {%- endif %}\\n                {%- endfor %}\\n            {{- \")\" }}\\n        {%- else  %}\\n            {{- \\'<|start_header_id|>assistant<|end_header_id|>\\\\n\\\\n\\' -}}\\n            {{- \\'{\"name\": \"\\' + tool_call.name + \\'\", \\' }}\\n            {{- \\'\"parameters\": \\' }}\\n            {{- tool_call.arguments | tojson }}\\n            {{- \"}\" }}\\n        {%- endif %}\\n        {%- if builtin_tools is defined %}\\n            {#- This means we\\'re in ipython mode #}\\n            {{- \"<|eom_id|>\" }}\\n        {%- else %}\\n            {{- \"<|eot_id|>\" }}\\n        {%- endif %}\\n    {%- elif message.role == \"tool\" or message.role == \"ipython\" %}\\n        {{- \"<|start_header_id|>ipython<|end_header_id|>\\\\n\\\\n\" }}\\n        {%- if message.content is mapping or message.content is iterable %}\\n            {{- message.content | tojson }}\\n        {%- else %}\\n            {{- message.content }}\\n        {%- endif %}\\n        {{- \"<|eot_id|>\" }}\\n    {%- endif %}\\n{%- endfor %}\\n{%- if add_generation_prompt %}\\n    {{- \\'<|start_header_id|>assistant<|end_header_id|>\\\\n\\\\n\\' }}\\n{%- endif %}\\n'"
      ]
     },
     "execution_count": 11,
     "metadata": {},
     "output_type": "execute_result"
    }
   ],
   "source": [
    "tokenizer_o.chat_template"
   ]
  },
  {
   "cell_type": "code",
   "execution_count": 12,
   "metadata": {},
   "outputs": [],
   "source": [
    "tokenizer_b.chat_template"
   ]
  },
  {
   "cell_type": "code",
   "execution_count": 1,
   "metadata": {},
   "outputs": [],
   "source": [
    "from prompt.prompt import create_prompt"
   ]
  },
  {
   "cell_type": "code",
   "execution_count": null,
   "metadata": {},
   "outputs": [],
   "source": [
    "# llm-recipes/finetuning.py --model_name checkpoints/Meta-Llama-3.1-8B-Instruct/ --dataset.file datasets/loader/squad.py --lr 1e-6 --num_epochs 5 --batch_size_training 4 --val_batch_size 4 --output_dir train/output/path --distillation_config.model_name checkpoints/batok_13200_safetesnors --distillation --distillation_config.enable_fsdp --distillation_config.pure_bf16 --distillation_config.distil_factor 1.5 --save_step 100"
   ]
  },
  {
   "cell_type": "code",
   "execution_count": null,
   "metadata": {},
   "outputs": [],
   "source": [
    "# CUDA_VISIBLE_DEVICES=2,3 torchrun --nproc-per-node=2 finetuning.py --model_name checkpoints/Meta-Llama-3.1-8B-Instruct/ --dataset.file datasets/loader/squad.py --lr 1e-6 --num_epochs 5 --batch_size_training 4 --val_batch_size 4 --output_dir train/output/path --distillation_config.model_name checkpoints/batok_13200_safetesnors --distillation --distillation_config.enable_fsdp --distillation_config.pure_bf16 --distillation_config.distil_factor 1.5 --save_step 100au"
   ]
  },
  {
   "cell_type": "code",
   "execution_count": 1,
   "metadata": {},
   "outputs": [
    {
     "name": "stderr",
     "output_type": "stream",
     "text": [
      "Downloading readme: 100%|██████████| 785/785 [00:00<00:00, 2.35MB/s]\n"
     ]
    }
   ],
   "source": [
    "from datasets import load_dataset\n",
    "\n",
    "dataset = load_dataset('Nicolas-BZRD/uld_loss_Llama-2-7b-chat-hf-squad', data_dir='data')"
   ]
  },
  {
   "cell_type": "code",
   "execution_count": 3,
   "metadata": {},
   "outputs": [],
   "source": [
    "df = dataset['validation'].to_pandas()"
   ]
  },
  {
   "cell_type": "code",
   "execution_count": 4,
   "metadata": {},
   "outputs": [
    {
     "data": {
      "text/html": [
       "<div>\n",
       "<style scoped>\n",
       "    .dataframe tbody tr th:only-of-type {\n",
       "        vertical-align: middle;\n",
       "    }\n",
       "\n",
       "    .dataframe tbody tr th {\n",
       "        vertical-align: top;\n",
       "    }\n",
       "\n",
       "    .dataframe thead th {\n",
       "        text-align: right;\n",
       "    }\n",
       "</style>\n",
       "<table border=\"1\" class=\"dataframe\">\n",
       "  <thead>\n",
       "    <tr style=\"text-align: right;\">\n",
       "      <th></th>\n",
       "      <th>context</th>\n",
       "      <th>question</th>\n",
       "      <th>answers</th>\n",
       "      <th>answers_generated</th>\n",
       "    </tr>\n",
       "  </thead>\n",
       "  <tbody>\n",
       "    <tr>\n",
       "      <th>0</th>\n",
       "      <td>Dell's manufacturing process covers assembly, ...</td>\n",
       "      <td>Where did Dell configure their notebooks?</td>\n",
       "      <td>{'answer_start': [287], 'text': ['in-house']}</td>\n",
       "      <td>In-house.</td>\n",
       "    </tr>\n",
       "    <tr>\n",
       "      <th>1</th>\n",
       "      <td>A second problem with materialism is that it o...</td>\n",
       "      <td>What is another issue that Whitehead had with ...</td>\n",
       "      <td>{'answer_start': [42], 'text': ['it obscures t...</td>\n",
       "      <td>Relationships</td>\n",
       "    </tr>\n",
       "    <tr>\n",
       "      <th>2</th>\n",
       "      <td>Major religious groups in the Republic of the ...</td>\n",
       "      <td>What percentage of Marshall Islanders worship ...</td>\n",
       "      <td>{'answer_start': [367], 'text': ['2.2%']}</td>\n",
       "      <td>2.2%</td>\n",
       "    </tr>\n",
       "    <tr>\n",
       "      <th>3</th>\n",
       "      <td>Following the 1914–15 edition, the competition...</td>\n",
       "      <td>what year did competition resume after world w...</td>\n",
       "      <td>{'answer_start': [113], 'text': ['1919–20.']}</td>\n",
       "      <td>1919</td>\n",
       "    </tr>\n",
       "    <tr>\n",
       "      <th>4</th>\n",
       "      <td>Frustration with censorship and editorial inte...</td>\n",
       "      <td>Pilote cartoonists were upset with censorship ...</td>\n",
       "      <td>{'answer_start': [32], 'text': ['editorial int...</td>\n",
       "      <td>editorial interference</td>\n",
       "    </tr>\n",
       "    <tr>\n",
       "      <th>...</th>\n",
       "      <td>...</td>\n",
       "      <td>...</td>\n",
       "      <td>...</td>\n",
       "      <td>...</td>\n",
       "    </tr>\n",
       "    <tr>\n",
       "      <th>4375</th>\n",
       "      <td>Although used in the Census and the American C...</td>\n",
       "      <td>In addition to the Census, where else is the \"...</td>\n",
       "      <td>{'answer_start': [32], 'text': ['the American ...</td>\n",
       "      <td>Other places where \"some other race\" is an opt...</td>\n",
       "    </tr>\n",
       "    <tr>\n",
       "      <th>4376</th>\n",
       "      <td>After a nonprofit organization has been formed...</td>\n",
       "      <td>Does this tax exempt status apply to other taxes?</td>\n",
       "      <td>{'answer_start': [804], 'text': ['must pay fed...</td>\n",
       "      <td>No taxes.</td>\n",
       "    </tr>\n",
       "    <tr>\n",
       "      <th>4377</th>\n",
       "      <td>Details of school casualties had been under no...</td>\n",
       "      <td>How many students were disabled in Xinhua?</td>\n",
       "      <td>{'answer_start': [450], 'text': ['546']}</td>\n",
       "      <td>546</td>\n",
       "    </tr>\n",
       "    <tr>\n",
       "      <th>4378</th>\n",
       "      <td>In 1903, Josiah White III bought a parcel of l...</td>\n",
       "      <td>In what year did Josiah White III by land to b...</td>\n",
       "      <td>{'answer_start': [3], 'text': ['1903']}</td>\n",
       "      <td>1903</td>\n",
       "    </tr>\n",
       "    <tr>\n",
       "      <th>4379</th>\n",
       "      <td>In 2008, Forbes magazine named Oklahoma City t...</td>\n",
       "      <td>When did Penn Square Bank go bankrupt?</td>\n",
       "      <td>{'answer_start': [399], 'text': ['1982']}</td>\n",
       "      <td>1982</td>\n",
       "    </tr>\n",
       "  </tbody>\n",
       "</table>\n",
       "<p>4380 rows × 4 columns</p>\n",
       "</div>"
      ],
      "text/plain": [
       "                                                context  ...                                  answers_generated\n",
       "0     Dell's manufacturing process covers assembly, ...  ...                                          In-house.\n",
       "1     A second problem with materialism is that it o...  ...                                      Relationships\n",
       "2     Major religious groups in the Republic of the ...  ...                                               2.2%\n",
       "3     Following the 1914–15 edition, the competition...  ...                                               1919\n",
       "4     Frustration with censorship and editorial inte...  ...                             editorial interference\n",
       "...                                                 ...  ...                                                ...\n",
       "4375  Although used in the Census and the American C...  ...  Other places where \"some other race\" is an opt...\n",
       "4376  After a nonprofit organization has been formed...  ...                                          No taxes.\n",
       "4377  Details of school casualties had been under no...  ...                                                546\n",
       "4378  In 1903, Josiah White III bought a parcel of l...  ...                                               1903\n",
       "4379  In 2008, Forbes magazine named Oklahoma City t...  ...                                               1982\n",
       "\n",
       "[4380 rows x 4 columns]"
      ]
     },
     "execution_count": 4,
     "metadata": {},
     "output_type": "execute_result"
    }
   ],
   "source": [
    "df"
   ]
  },
  {
   "cell_type": "code",
   "execution_count": 3,
   "metadata": {},
   "outputs": [],
   "source": [
    "from datasets import load_dataset, Dataset, DatasetDict\n",
    "\n",
    "ds = load_dataset('json', data_files=\"/data/nvme7n1p1/critical_all/critical_instruct_1/2024.09.23_instruct_kk_QnA-hotpot-qa-train.json_31300907.json\")"
   ]
  },
  {
   "cell_type": "code",
   "execution_count": 6,
   "metadata": {},
   "outputs": [],
   "source": [
    "ds_split = ds['train'].train_test_split(test_size=10) \n",
    "ds_to_upload = DatasetDict({\"train\":ds_split['test'], \"validation\":ds_split['test']})"
   ]
  },
  {
   "cell_type": "code",
   "execution_count": 8,
   "metadata": {},
   "outputs": [
    {
     "name": "stderr",
     "output_type": "stream",
     "text": [
      "Creating parquet from Arrow format: 100%|██████████| 1/1 [00:00<00:00, 208.62ba/s]\n",
      "Uploading the dataset shards: 100%|██████████| 1/1 [00:00<00:00,  3.07it/s]\n",
      "Creating parquet from Arrow format: 100%|██████████| 1/1 [00:00<00:00, 304.40ba/s]\n",
      "Uploading the dataset shards: 100%|██████████| 1/1 [00:00<00:00, 13.84it/s]\n"
     ]
    },
    {
     "data": {
      "text/plain": [
       "CommitInfo(commit_url='https://huggingface.co/datasets/AdalAbilbekov/test_v1/commit/0441e488bcf6fcbbc00583ed06eac1bcb4cb95af', commit_message='Upload dataset', commit_description='', oid='0441e488bcf6fcbbc00583ed06eac1bcb4cb95af', pr_url=None, pr_revision=None, pr_num=None)"
      ]
     },
     "execution_count": 8,
     "metadata": {},
     "output_type": "execute_result"
    }
   ],
   "source": [
    "from huggingface_hub import HfApi, login\n",
    "\n",
    "api = HfApi()\n",
    "repo_id = \"AdalAbilbekov/test_v1\"\n",
    "api.create_repo(repo_id=repo_id, repo_type=\"dataset\", exist_ok=True)\n",
    "\n",
    "ds_to_upload.push_to_hub(repo_id, private=True)"
   ]
  },
  {
   "cell_type": "code",
   "execution_count": 17,
   "metadata": {},
   "outputs": [
    {
     "name": "stderr",
     "output_type": "stream",
     "text": [
      "Loading checkpoint shards:   0%|          | 0/4 [00:00<?, ?it/s]"
     ]
    },
    {
     "name": "stderr",
     "output_type": "stream",
     "text": [
      "Loading checkpoint shards: 100%|██████████| 4/4 [00:02<00:00,  1.92it/s]\n",
      "Loading checkpoint shards: 100%|██████████| 2/2 [00:01<00:00,  1.36it/s]\n"
     ]
    }
   ],
   "source": [
    "from transformers import AutoModelForCausalLM\n",
    "\n",
    "model_a=AutoModelForCausalLM.from_pretrained('/data/nvme3n1p1/adal_workspace/distilation_process/llm-recipes/checkpoints/Meta-Llama-3.1-8B-Instruct')\n",
    "model_b=AutoModelForCausalLM.from_pretrained(\"meta-llama/Llama-2-7b-hf\")\n",
    "# model_c=AutoModelForCausalLM.from_pretrained(\"EleutherAI/pythia-410m-deduped\")\n",
    "model_c_28 = AutoModelForCausalLM.from_pretrained(\"EleutherAI/pythia-2.8b-deduped\")\n",
    "model_2_inst = AutoModelForCausalLM.from_pretrained(\"meta-llama/Llama-3.2-1B-Instruct\")"
   ]
  },
  {
   "cell_type": "code",
   "execution_count": 14,
   "metadata": {},
   "outputs": [
    {
     "data": {
      "text/plain": [
       "LlamaForCausalLM(\n",
       "  (model): LlamaModel(\n",
       "    (embed_tokens): Embedding(128256, 4096)\n",
       "    (layers): ModuleList(\n",
       "      (0-31): 32 x LlamaDecoderLayer(\n",
       "        (self_attn): LlamaSdpaAttention(\n",
       "          (q_proj): Linear(in_features=4096, out_features=4096, bias=False)\n",
       "          (k_proj): Linear(in_features=4096, out_features=1024, bias=False)\n",
       "          (v_proj): Linear(in_features=4096, out_features=1024, bias=False)\n",
       "          (o_proj): Linear(in_features=4096, out_features=4096, bias=False)\n",
       "          (rotary_emb): LlamaRotaryEmbedding()\n",
       "        )\n",
       "        (mlp): LlamaMLP(\n",
       "          (gate_proj): Linear(in_features=4096, out_features=14336, bias=False)\n",
       "          (up_proj): Linear(in_features=4096, out_features=14336, bias=False)\n",
       "          (down_proj): Linear(in_features=14336, out_features=4096, bias=False)\n",
       "          (act_fn): SiLU()\n",
       "        )\n",
       "        (input_layernorm): LlamaRMSNorm()\n",
       "        (post_attention_layernorm): LlamaRMSNorm()\n",
       "      )\n",
       "    )\n",
       "    (norm): LlamaRMSNorm()\n",
       "    (rotary_emb): LlamaRotaryEmbedding()\n",
       "  )\n",
       "  (lm_head): Linear(in_features=4096, out_features=128256, bias=False)\n",
       ")"
      ]
     },
     "execution_count": 14,
     "metadata": {},
     "output_type": "execute_result"
    }
   ],
   "source": [
    "model_a"
   ]
  },
  {
   "cell_type": "code",
   "execution_count": 15,
   "metadata": {},
   "outputs": [
    {
     "data": {
      "text/plain": [
       "GPTNeoXForCausalLM(\n",
       "  (gpt_neox): GPTNeoXModel(\n",
       "    (embed_in): Embedding(50304, 2560)\n",
       "    (emb_dropout): Dropout(p=0.0, inplace=False)\n",
       "    (layers): ModuleList(\n",
       "      (0-31): 32 x GPTNeoXLayer(\n",
       "        (input_layernorm): LayerNorm((2560,), eps=1e-05, elementwise_affine=True)\n",
       "        (post_attention_layernorm): LayerNorm((2560,), eps=1e-05, elementwise_affine=True)\n",
       "        (post_attention_dropout): Dropout(p=0.0, inplace=False)\n",
       "        (post_mlp_dropout): Dropout(p=0.0, inplace=False)\n",
       "        (attention): GPTNeoXSdpaAttention(\n",
       "          (rotary_emb): GPTNeoXRotaryEmbedding()\n",
       "          (query_key_value): Linear(in_features=2560, out_features=7680, bias=True)\n",
       "          (dense): Linear(in_features=2560, out_features=2560, bias=True)\n",
       "          (attention_dropout): Dropout(p=0.0, inplace=False)\n",
       "        )\n",
       "        (mlp): GPTNeoXMLP(\n",
       "          (dense_h_to_4h): Linear(in_features=2560, out_features=10240, bias=True)\n",
       "          (dense_4h_to_h): Linear(in_features=10240, out_features=2560, bias=True)\n",
       "          (act): GELUActivation()\n",
       "        )\n",
       "      )\n",
       "    )\n",
       "    (final_layer_norm): LayerNorm((2560,), eps=1e-05, elementwise_affine=True)\n",
       "  )\n",
       "  (embed_out): Linear(in_features=2560, out_features=50304, bias=False)\n",
       ")"
      ]
     },
     "execution_count": 15,
     "metadata": {},
     "output_type": "execute_result"
    }
   ],
   "source": [
    "model_c_28"
   ]
  },
  {
   "cell_type": "code",
   "execution_count": 18,
   "metadata": {},
   "outputs": [
    {
     "data": {
      "text/plain": [
       "LlamaForCausalLM(\n",
       "  (model): LlamaModel(\n",
       "    (embed_tokens): Embedding(128256, 2048)\n",
       "    (layers): ModuleList(\n",
       "      (0-15): 16 x LlamaDecoderLayer(\n",
       "        (self_attn): LlamaSdpaAttention(\n",
       "          (q_proj): Linear(in_features=2048, out_features=2048, bias=False)\n",
       "          (k_proj): Linear(in_features=2048, out_features=512, bias=False)\n",
       "          (v_proj): Linear(in_features=2048, out_features=512, bias=False)\n",
       "          (o_proj): Linear(in_features=2048, out_features=2048, bias=False)\n",
       "          (rotary_emb): LlamaRotaryEmbedding()\n",
       "        )\n",
       "        (mlp): LlamaMLP(\n",
       "          (gate_proj): Linear(in_features=2048, out_features=8192, bias=False)\n",
       "          (up_proj): Linear(in_features=2048, out_features=8192, bias=False)\n",
       "          (down_proj): Linear(in_features=8192, out_features=2048, bias=False)\n",
       "          (act_fn): SiLU()\n",
       "        )\n",
       "        (input_layernorm): LlamaRMSNorm()\n",
       "        (post_attention_layernorm): LlamaRMSNorm()\n",
       "      )\n",
       "    )\n",
       "    (norm): LlamaRMSNorm()\n",
       "    (rotary_emb): LlamaRotaryEmbedding()\n",
       "  )\n",
       "  (lm_head): Linear(in_features=2048, out_features=128256, bias=False)\n",
       ")"
      ]
     },
     "execution_count": 18,
     "metadata": {},
     "output_type": "execute_result"
    }
   ],
   "source": [
    "model_2_inst"
   ]
  },
  {
   "cell_type": "code",
   "execution_count": 21,
   "metadata": {},
   "outputs": [],
   "source": [
    "from transformers import AutoTokenizer\n",
    "\n",
    "tokenizer3_2 = AutoTokenizer.from_pretrained(\"checkpoints/Meta-Llama-3.1-8B-Instruct\")\n",
    "tokenizer3_1 = AutoTokenizer.from_pretrained(\"meta-llama/Llama-3.2-1B-Instruct\")\n",
    "\n",
    "tokenizers = [tokenizer3_2, tokenizer3_1]"
   ]
  },
  {
   "cell_type": "code",
   "execution_count": 25,
   "metadata": {},
   "outputs": [
    {
     "data": {
      "text/plain": [
       "True"
      ]
     },
     "execution_count": 25,
     "metadata": {},
     "output_type": "execute_result"
    }
   ],
   "source": [
    "tokenizer3_2.get_vocab() == tokenizer3_1.get_vocab()"
   ]
  },
  {
   "cell_type": "code",
   "execution_count": 22,
   "metadata": {},
   "outputs": [
    {
     "name": "stdout",
     "output_type": "stream",
     "text": [
      "[128000, 142, 248, 109424, 142, 249, 52037]\n",
      "[128000, 142, 248, 109424, 142, 249, 52037]\n"
     ]
    }
   ],
   "source": [
    "text = \"Қазақстан\"\n",
    "\n",
    "for tokenizer in tokenizers:\n",
    "    print(tokenizer.encode(text))"
   ]
  },
  {
   "cell_type": "code",
   "execution_count": 11,
   "metadata": {},
   "outputs": [
    {
     "data": {
      "text/plain": [
       "{'Hello': 'Mark'}"
      ]
     },
     "execution_count": 11,
     "metadata": {},
     "output_type": "execute_result"
    }
   ],
   "source": []
  },
  {
   "cell_type": "code",
   "execution_count": 1,
   "metadata": {},
   "outputs": [],
   "source": [
    "from datasets import load_dataset"
   ]
  },
  {
   "cell_type": "code",
   "execution_count": 2,
   "metadata": {},
   "outputs": [
    {
     "name": "stderr",
     "output_type": "stream",
     "text": [
      "Downloading readme: 100%|██████████| 493/493 [00:00<00:00, 1.49MB/s]\n"
     ]
    }
   ],
   "source": [
    "dataset = load_dataset('AdalAbilbekov/test_v1', data_dir='data')"
   ]
  },
  {
   "cell_type": "code",
   "execution_count": 7,
   "metadata": {},
   "outputs": [
    {
     "data": {
      "text/plain": [
       "{'instruction': 'Мезоамерикандық хронология Колумбияға дейінгі Месоамерика тарихын бірнеше кезеңдерге бөледі: палео-үнді (адамның алғашқы қоныстануы – б.з.б. 3500), архаикалық (б.з.б. 3500–2000), классикалыққа дейінгі немесе қалыптасу (б.з.б. 2000–200), классикалық. (200 ж. – 1000 ж.), және Постклассик (б. з. 1000 – 1697 ж.). Кейбір кезеңдік бөлімдер Майя тарихынан алынған: Классикалық-Классикалық шекара бірінші Майяның «құлдырауын», Классикалық-Постклассикалық шекара екіншісін, ал 1697 жылдың аяқталу күні соңғы тәуелсіз Майяның жаулап алуын білдіреді. қала-мемлекет, Таясал. Дегенмен, бұл хронология Колумбияға дейінгі басқа мезоамерикандық өркениеттерге де қатысты. Педро Армиллас Гарсиа (9 қыркүйек 1914 жыл – 11 сәуір 1984 жыл) — испандық академиялық антрополог, археолог және 20 ғасырдың ортасындағы Колумбияға дейінгі ықпалды месоамерикандық ғалым. Археолог ретінде ол Мексиканың орталық және солтүстігіндегі көптеген жерлерде дала жұмыстары мен қазба жұмыстарымен және археологиялық теорияға қосқан үлесімен танымал болды. Оның мезоамерикандық ауыл шаруашылығы мен өндірістің күнкөріс режимдерінің мезоамерикандық мәдениеттердің дамуына қалай әсер еткені туралы зерттеуі пионер болды және ол Колумбияға дейінгі суару және гидравликалық жүйелерді зерттеген ең алғашқылардың бірі болды. Обсидиан - Колумбияға дейінгі Месоамериканың материалдық мәдениетінің маңызды бөлігі болған табиғи түрде қалыптасқан жанартаулық шыны. Обсидиан күнделікті және салттық өмірдің өте біріктірілген бөлігі болды және оның кең таралған және әртүрлі қолданылуы Месоамерикадағы металлургияның жетіспеушілігіне елеулі үлес қосуы мүмкін. Обсидианның литикалық және контекстік талдауы, оның ішінде деректану, бұрынғы мезоамерикандық мәдениеттердің археологиялық зерттеулерінің маңызды құрамдас бөлігі болып табылады және ғалымдарды экономика, технологиялық ұйымдастыру, алыс қашықтыққа сауда, ритуалды ұйымдастыру және әлеуметтік-мәдени құрылым туралы ақпарат береді. Майя күнтізбесі - Колумбияға дейінгі Месоамерикада және Гватемала таулы аймақтарында, Веракрус, Оаксака және Чиапас, Мексикадағы көптеген заманауи қауымдастықтарда қолданылатын күнтізбелер жүйесі. Дэвид Хумистон Келли (1 сәуір, 1924 жыл, Олбани, Нью-Йорк – 2011 жылдың 19 мамыры) — канадалық американдық археолог және эпиграфист, фонетикалық талдаудағы жұмысы және майялар қолданатын жазу жүйесін шешуге қосқан үлкен үлесі үшін танымал болды. Колумбияға дейінгі Месоамерика өркениеті, майя жазуы. Талгуа үңгірі, («Жарқыраған бас сүйектер үңгірі»; «Куева дель Рио Талгуа») — Гондурастың солтүстік-шығысындағы Катакамас муниципалитетіндегі Оланчо алқабында орналасқан үңгір. «Жарқыраған бас сүйектер үңгірі» деген қате атау үңгірге сол жерден табылған қаңқа қалдықтарында табылған кальцит шөгінділерінен жарық шағылысатындықтан берілген. Бұл орын Орталық Америка мен Месоамерика үңгірлерінің қорымдарын зерттейтін археологтардың қызығушылығын тудырды, қазіргі уақытта олармен байланыста болғаны белгілі ертеден орта классикалыққа дейінгі (бұл жағдайда біздің дәуірімізге дейінгі ~ 1000-900) оссуарий үңгірлерінің орындарының бірі ретінде. жақын Месоамерикадағы майя қоғамдары. Ол Талгуа үңгірінің тұрғындары Колумбияға дейінгі Месоамерика мен Орталық Американың одан әрі оңтүстігі мен шығысындағы бөліктер арасындағы және Оңтүстік Американың солтүстігіндегі осы қоғамдарға, Истмо-Истмос деп аталатын аймаққа таралатын маңызды байланыс болғаны туралы көптеген құнды мәліметтер береді. Колумбия аймағы. Джон Мейжор Дженкинс (1964-2017) - Колумбияға дейінгі Месоамерикадағы Майя өркениеті пайдаланған күнтізбелік жүйелердің кейбір астрономиялық және эзотерикалық байланыстарын теориялайтын еңбектерімен танымал американдық автор және тәуелсіз зерттеуші. Оның жазбалары әсіресе 2012 жылғы мыңжылдықпен және Майяизмнің қазіргі және танымал мәдениеттегі дамуымен, Жаңа дәуір ортасынан шыққан нәтиже ретінде байланысты. Ол ежелгі Майя күнтізбесі 2012 жылдың 21 желтоқсанында аяқталады деген идеяны алға тартқан басты адамдардың бірі және бұл Жердегі үлкен өзгерістерді білдіреді. Ол өзінің Four Ahau баспасөзі арқылы бірнеше кітаптарды өзі шығарды. Йоахим Риттстиег (1937 жылы 23 ақпанда Берлинде дүниеге келген, 2014 жылы 27 мамырда Рендсбургте қайтыс болған) Мексикада, Гватемалада, Белизде, Гондураста және Сальвадорда саяхаттаған орта мектептің математика мұғалімі болды және Майя күнтізбесі жүйесін 40 жыл бұрын зерттеген. - жылдық хобби. Талуд-таблеро - Колумбияға дейінгі Месоамерикадағы платформаларда, храмдарда және пирамидаларда жиі қолданылатын, Теотихуаканның ерте классикалық кезеңінде танымал болған сәулет стилі. «Талуд-таблеро» «талюд» деп аталатын беткейде орналасқан жерге перпендикуляр панелі немесе құрылымы бар «талуд» деп аталатын ішке қарай еңіс беткейден немесе панельден тұрады. Мұны көлбеу және панельдік стиль деп те атауға болады. Майя үңгірлерінің орындары Колумбияға дейінгі Месоамерикадағы Майя өркениеті пайдаланған және олармен байланысты үңгірлер. Үңгірлермен байланысты белгілі бір нанымдар мен әдет-ғұрыптар кейбір қазіргі Майя қауымдастықтары арасында да сақталған. Бұл үңгір орындары утилитарлық емес, діни мақсаттарға қызмет еткен деп түсініледі. Тиісінше, үңгірлерден табылған археологиялық артефактілер эпиграфикалық, иконографиялық және этнографиялық зерттеулермен біріктірілген діни рәсімдер мен үңгірлерді зерттеудің интерпретациясы туралы ақпарат бере алады, Майя діні мен қоғамын одан әрі хабардар ете алады.',\n",
       " 'input': 'Йоахим Риттстиг Колумбияға дейінгі Месоамерикада қолданылған каландрлар жүйесін қанша уақыт және қандай дәрежеде зерттеді?',\n",
       " 'output': ' 40 жылдық хобби'}"
      ]
     },
     "execution_count": 7,
     "metadata": {},
     "output_type": "execute_result"
    }
   ],
   "source": [
    "dataset['train'][0]"
   ]
  },
  {
   "cell_type": "code",
   "execution_count": 9,
   "metadata": {},
   "outputs": [
    {
     "name": "stderr",
     "output_type": "stream",
     "text": [
      "Creating json from Arrow format: 100%|██████████| 1/1 [00:00<00:00, 71.52ba/s]\n"
     ]
    },
    {
     "data": {
      "text/plain": [
       "87197"
      ]
     },
     "execution_count": 9,
     "metadata": {},
     "output_type": "execute_result"
    }
   ],
   "source": [
    "dataset['train'].to_json('/data/nvme3n1p1/adal_workspace/checkv1/v1.json', lines=True,force_ascii=False)"
   ]
  },
  {
   "cell_type": "code",
   "execution_count": 11,
   "metadata": {},
   "outputs": [],
   "source": [
    "from transformers import AutoModel\n",
    "\n",
    "model = AutoModel.from_pretrained(\"/data/nvme3n1p1/adal_workspace/distilation_process/llm-recipes/checkpoints/distilled_model/1500\")"
   ]
  },
  {
   "cell_type": "code",
   "execution_count": 13,
   "metadata": {},
   "outputs": [],
   "source": [
    "ds = load_dataset(\"AdalAbilbekov/llama_chat_issai\", data_dir=\"data\")"
   ]
  },
  {
   "cell_type": "code",
   "execution_count": 16,
   "metadata": {},
   "outputs": [],
   "source": [
    "df = ds['train'].to_pandas()"
   ]
  },
  {
   "cell_type": "code",
   "execution_count": 18,
   "metadata": {},
   "outputs": [
    {
     "data": {
      "text/html": [
       "<div>\n",
       "<style scoped>\n",
       "    .dataframe tbody tr th:only-of-type {\n",
       "        vertical-align: middle;\n",
       "    }\n",
       "\n",
       "    .dataframe tbody tr th {\n",
       "        vertical-align: top;\n",
       "    }\n",
       "\n",
       "    .dataframe thead th {\n",
       "        text-align: right;\n",
       "    }\n",
       "</style>\n",
       "<table border=\"1\" class=\"dataframe\">\n",
       "  <thead>\n",
       "    <tr style=\"text-align: right;\">\n",
       "      <th></th>\n",
       "      <th>context</th>\n",
       "      <th>question</th>\n",
       "      <th>answers_generated</th>\n",
       "    </tr>\n",
       "  </thead>\n",
       "  <tbody>\n",
       "    <tr>\n",
       "      <th>217</th>\n",
       "      <td>One Commerce Plaza, сонымен қатар егіз мұнарал...</td>\n",
       "      <td>Альфред Э. Смит ғимараты Нью-Йорк штатының Кап...</td>\n",
       "      <td>One Commerce Plaza</td>\n",
       "    </tr>\n",
       "    <tr>\n",
       "      <th>267</th>\n",
       "      <td>Американдық Уолтхэм Сағат компаниясының тарихи...</td>\n",
       "      <td>Уолтхэм Массачусетс штатындағы 110 Crescent St...</td>\n",
       "      <td>Waltham Watch Company</td>\n",
       "    </tr>\n",
       "    <tr>\n",
       "      <th>432</th>\n",
       "      <td>Халика - унитарлық универсалистер тойлайтын ме...</td>\n",
       "      <td>«Алты күн, жеті түн» фильмін қандай продюсерлі...</td>\n",
       "      <td>Montecito Picture Company</td>\n",
       "    </tr>\n",
       "    <tr>\n",
       "      <th>483</th>\n",
       "      <td>Отлиле «Оти» Мабусе (1990 жылы 8 тамызда туған...</td>\n",
       "      <td>1980 жылы 19 қаңтарда дүниеге келген ресейлік ...</td>\n",
       "      <td>Strictly Come Dancing</td>\n",
       "    </tr>\n",
       "    <tr>\n",
       "      <th>688</th>\n",
       "      <td>American Business Journal – ағымдағы бизнес та...</td>\n",
       "      <td>1912 жылға дейін ең табысты американдық және х...</td>\n",
       "      <td>EP Charlton &amp; Company</td>\n",
       "    </tr>\n",
       "    <tr>\n",
       "      <th>1456</th>\n",
       "      <td>Elektor теледидар ойындарының компьютері (TVGC...</td>\n",
       "      <td>Elektor TV Games компьютері Sharp корпорациясы...</td>\n",
       "      <td>Elektor TV Games Computer (TVGC) 1979 жылдан ...</td>\n",
       "    </tr>\n",
       "    <tr>\n",
       "      <th>1503</th>\n",
       "      <td>Las Vegas Premium Outlets North - бұл 540 000 ...</td>\n",
       "      <td>Jersey Gardens-тегі The Mills немесе Woodbury ...</td>\n",
       "      <td>Woodbury Common Premium сауда нүктелері</td>\n",
       "    </tr>\n",
       "    <tr>\n",
       "      <th>2233</th>\n",
       "      <td>HOY Regional — Хуануко қаласында шығатын Перу ...</td>\n",
       "      <td>Ace of Spades штаб-пәтеріне сілтеме жасап, сіл...</td>\n",
       "      <td>Dow Jones &amp; Company</td>\n",
       "    </tr>\n",
       "    <tr>\n",
       "      <th>3379</th>\n",
       "      <td>2013 жылғы Англия кубогының финалы Англия кубо...</td>\n",
       "      <td>Бұл 2003 жылғы Қытай футбол кубогының титулдық...</td>\n",
       "      <td>CBR Brewing Company, Inc.</td>\n",
       "    </tr>\n",
       "    <tr>\n",
       "      <th>4274</th>\n",
       "      <td>Robot Chicken DC Comics Special — «Robot Chick...</td>\n",
       "      <td>2012 жылы ересектер үшін жүзуде көрсетілген жи...</td>\n",
       "      <td>Robot Chicken DC Comics Арнайы</td>\n",
       "    </tr>\n",
       "    <tr>\n",
       "      <th>4403</th>\n",
       "      <td>Sony Xperia Z5 Compact - Sony шығарған Android...</td>\n",
       "      <td>Sony Xperia T – 2001 жылы 1 қазанда штаб-пәтер...</td>\n",
       "      <td>Sony Mobile Communications Inc.</td>\n",
       "    </tr>\n",
       "    <tr>\n",
       "      <th>5309</th>\n",
       "      <td>Джордж Альберт Смит Fieldhouse - Юта штатының ...</td>\n",
       "      <td>Шедд Парк Филдхаус қай басқарманың екінші през...</td>\n",
       "      <td>Marshall Field &amp; Company</td>\n",
       "    </tr>\n",
       "    <tr>\n",
       "      <th>6488</th>\n",
       "      <td>Джеймс Кэмерон - канадалық режиссер, сценарист...</td>\n",
       "      <td>Арчи Хан Горгониттердің төңірегінде өрбіген Дж...</td>\n",
       "      <td>Commando Elite</td>\n",
       "    </tr>\n",
       "    <tr>\n",
       "      <th>6872</th>\n",
       "      <td>Жаклин Келли - Жаңа Зеландияда туған американд...</td>\n",
       "      <td>Қолтырауынды Жаңа Зеландиядан шыққан қай амери...</td>\n",
       "      <td>Ray Comfort</td>\n",
       "    </tr>\n",
       "    <tr>\n",
       "      <th>8708</th>\n",
       "      <td>\"Жалғыз Рождестволық кеш\" - 2000 жылы шыққан \"...</td>\n",
       "      <td>«Гринч Рождествоны қалай ұрлады» фильмінің арт...</td>\n",
       "      <td>Comcast</td>\n",
       "    </tr>\n",
       "    <tr>\n",
       "      <th>11591</th>\n",
       "      <td>Өрмекші адам: Үндістан – 2004 жылы Үндістанда ...</td>\n",
       "      <td>Моуни Рой қандай шоудың үнді нұсқасына қатысуш...</td>\n",
       "      <td>Strictly Come Dancing</td>\n",
       "    </tr>\n",
       "    <tr>\n",
       "      <th>13419</th>\n",
       "      <td>Брайан Робинс Англияның Челтенхэм қаласында дү...</td>\n",
       "      <td>Кіші Джеймс Д. Фарли қай компанияда жұмыс істе...</td>\n",
       "      <td>Ford Motor Company</td>\n",
       "    </tr>\n",
       "    <tr>\n",
       "      <th>13958</th>\n",
       "      <td>Air Tractor Inc. — Олниде, Техас қаласында орн...</td>\n",
       "      <td>1917 жылы Генри М. Леланд негізін қалаған MKC ...</td>\n",
       "      <td>Lincoln Motor Company</td>\n",
       "    </tr>\n",
       "    <tr>\n",
       "      <th>14040</th>\n",
       "      <td>Мира Квин Байла! (] ; Ағылшынша: \"Look Who's D...</td>\n",
       "      <td>Mira Quien Baila (Mira Quien Baila 2011 және M...</td>\n",
       "      <td>Strictly Come Dancing</td>\n",
       "    </tr>\n",
       "    <tr>\n",
       "      <th>16231</th>\n",
       "      <td>Сет Хейли (Ком Труиз сахналық атымен белгілі) ...</td>\n",
       "      <td>Итерация - Нью-Йорктегі Онидадан келген қандай...</td>\n",
       "      <td>Com Truise</td>\n",
       "    </tr>\n",
       "    <tr>\n",
       "      <th>16510</th>\n",
       "      <td>Navarro Discount Pharmacies, Inc., жиі Наварро...</td>\n",
       "      <td>Флосеквинаны ашқан және дамытатын дәріханалар ...</td>\n",
       "      <td>The Boots Company Plc</td>\n",
       "    </tr>\n",
       "    <tr>\n",
       "      <th>18321</th>\n",
       "      <td>Эрик Карлсон (1958 жылы 22 мамырда, Сиэтлде, В...</td>\n",
       "      <td>Сиэтлден келген The Mentors металл тобының бар...</td>\n",
       "      <td>Chinas Comidas және The Screamers</td>\n",
       "    </tr>\n",
       "    <tr>\n",
       "      <th>18768</th>\n",
       "      <td>The Walking Dead: Survival Instinct – бұл Term...</td>\n",
       "      <td>«Жаяу өлілер» фильмінде Мерле Диксонның рөлін ...</td>\n",
       "      <td>Marvel Comics супер қаһарман командасы</td>\n",
       "    </tr>\n",
       "    <tr>\n",
       "      <th>18956</th>\n",
       "      <td>2001 Florida Citrus Bowl - бұл 2001 жылдың 1 қ...</td>\n",
       "      <td>1995 жылы Флорида Цитрус Боулының қай демеушіс...</td>\n",
       "      <td>CompUSA</td>\n",
       "    </tr>\n",
       "    <tr>\n",
       "      <th>19238</th>\n",
       "      <td>Кейт Джонс – 2012 жылдың шілдесінен бастап Фил...</td>\n",
       "      <td>Кейт Джонс жұмыс істейтін жаңалықтар компанияс...</td>\n",
       "      <td>Comcast</td>\n",
       "    </tr>\n",
       "    <tr>\n",
       "      <th>19289</th>\n",
       "      <td>Орфеум театры - Миннеаполис қаласының орталығы...</td>\n",
       "      <td>Pantages театрының төбесін қандай сәнді зергер...</td>\n",
       "      <td>Tiffany &amp; Company</td>\n",
       "    </tr>\n",
       "    <tr>\n",
       "      <th>20314</th>\n",
       "      <td>Буэнос-Айрес және Ла Пампа ауылдық қауымдастық...</td>\n",
       "      <td>Business Nation ай сайын көрсететін арна кімге...</td>\n",
       "      <td>Comcast</td>\n",
       "    </tr>\n",
       "    <tr>\n",
       "      <th>24698</th>\n",
       "      <td>BlazBlue: Chrono Phantasma, Жапонияда BlazBlue...</td>\n",
       "      <td>Қандай компьютер бірінші шығарылды, Digi-Comp ...</td>\n",
       "      <td>Digi-Comp I</td>\n",
       "    </tr>\n",
       "    <tr>\n",
       "      <th>26191</th>\n",
       "      <td>Бернард Джон «Берни» Эбберс (1941 жылы 27 тамы...</td>\n",
       "      <td>Джон В. Сидгмор, 1994 жылдың маусымында UUNET ...</td>\n",
       "      <td>WorldCom</td>\n",
       "    </tr>\n",
       "    <tr>\n",
       "      <th>26860</th>\n",
       "      <td>Pinnacle Airlines Corporation штаб-пәтері Тенн...</td>\n",
       "      <td>Штаб-пәтері Миннеаполис-Сент-Пол халықаралық ә...</td>\n",
       "      <td>Compass Airlines</td>\n",
       "    </tr>\n",
       "    <tr>\n",
       "      <th>29940</th>\n",
       "      <td>Оңтүстік Каролина каналы және теміржол компани...</td>\n",
       "      <td>Джонсонбург, Кейн, Уоррен және Ирвин теміржолы...</td>\n",
       "      <td>JKWI Irvine, Warren, Kane &amp; Johnsonburg Railr...</td>\n",
       "    </tr>\n",
       "    <tr>\n",
       "      <th>30551</th>\n",
       "      <td>Interair South Africa ретінде саудаланған Inte...</td>\n",
       "      <td>Қай франчайзингтік тасымалдаушы ұшақтарды толы...</td>\n",
       "      <td>Comair</td>\n",
       "    </tr>\n",
       "    <tr>\n",
       "      <th>31557</th>\n",
       "      <td>Жан Мишель Шлюмбергер (24 маусым, 1907 - 29 та...</td>\n",
       "      <td>Жан Мишель Шлюмбергер қандай американдық сәнді...</td>\n",
       "      <td>Tiffany &amp; Company</td>\n",
       "    </tr>\n",
       "    <tr>\n",
       "      <th>33121</th>\n",
       "      <td>Августин Томпсон (1835 жылдың 25 қарашасында О...</td>\n",
       "      <td>«Мокси» алкогольсіз сусынын шығаратын кәсіпоры...</td>\n",
       "      <td>Kirin Holdings Company, Limited</td>\n",
       "    </tr>\n",
       "    <tr>\n",
       "      <th>33841</th>\n",
       "      <td>Robot Chicken: Star Wars III эпизод (сонымен қ...</td>\n",
       "      <td>Robot Chicken алтыншы маусымы қандай ерекше ба...</td>\n",
       "      <td>Robot Chicken DC Comics Арнайы</td>\n",
       "    </tr>\n",
       "    <tr>\n",
       "      <th>34482</th>\n",
       "      <td>«Клаус пен Грета» — америкалық «30 рок» телеко...</td>\n",
       "      <td>«30 рок» комедиялық сериалын көрсететін желі қ...</td>\n",
       "      <td>Comcast</td>\n",
       "    </tr>\n",
       "    <tr>\n",
       "      <th>34722</th>\n",
       "      <td>Microsoft Device Emulator — Windows Mobile нег...</td>\n",
       "      <td>Microsoft(R) Windows Mobile қолданатын планшет...</td>\n",
       "      <td>AsusTek Computer Inc.</td>\n",
       "    </tr>\n",
       "    <tr>\n",
       "      <th>35755</th>\n",
       "      <td>Джон Ф.А.Сэнфорд (1806-1857) американдық батыс...</td>\n",
       "      <td>Француз-канада саяхатшысы Мишель Брисбуа жұмыс...</td>\n",
       "      <td>Hudson's Bay компаниясы (HBC; французша: «Com...</td>\n",
       "    </tr>\n",
       "    <tr>\n",
       "      <th>36251</th>\n",
       "      <td>Subiaco Oval (; қазіргі уақытта домен стадионы...</td>\n",
       "      <td>Батыс Австралиядағы Перт қаласындағы спорт ста...</td>\n",
       "      <td>Combat</td>\n",
       "    </tr>\n",
       "    <tr>\n",
       "      <th>37171</th>\n",
       "      <td>Козерог Хизер Линн мен Кирстен Нординнен тұрат...</td>\n",
       "      <td>Козерогтар штаб-пәтері Шибуя, Токио, Жапонияда...</td>\n",
       "      <td>Casio Computer Co., Ltd.</td>\n",
       "    </tr>\n",
       "    <tr>\n",
       "      <th>37773</th>\n",
       "      <td>Continental Mark VII, кейінірек Lincoln Mark V...</td>\n",
       "      <td>Lincoln Continental Mark V көлігін қандай комп...</td>\n",
       "      <td>Lincoln Motor Company</td>\n",
       "    </tr>\n",
       "    <tr>\n",
       "      <th>39947</th>\n",
       "      <td>Furby - 1998 жылы Tiger Electronics шығарған а...</td>\n",
       "      <td>Ғасырдан астам уақыт бойы 40 миллионнан астам ...</td>\n",
       "      <td>Waltham Watch Company</td>\n",
       "    </tr>\n",
       "    <tr>\n",
       "      <th>41107</th>\n",
       "      <td>Шабуыл (бұрынғы аты Жиһад) - бұл DC Comics шығ...</td>\n",
       "      <td>Ойдан шығарылған су элементі болып табылатын Н...</td>\n",
       "      <td>Grand Comics дерекқоры</td>\n",
       "    </tr>\n",
       "    <tr>\n",
       "      <th>43100</th>\n",
       "      <td>Мұз үстінде билеу - бүкіл әлемде шығарылған бр...</td>\n",
       "      <td>Шерил Стефани Берк американдық би байқауындағы...</td>\n",
       "      <td>Strictly Come Dancing</td>\n",
       "    </tr>\n",
       "    <tr>\n",
       "      <th>43608</th>\n",
       "      <td>Норман Джин Макдональд (1959 жылы 17 қазанда т...</td>\n",
       "      <td>Барлық уақыттағы 100 үздік стенд-аптың бірі, Н...</td>\n",
       "      <td>Comedy Central оны бес бөлімнен тұратын «Барл...</td>\n",
       "    </tr>\n",
       "    <tr>\n",
       "      <th>44530</th>\n",
       "      <td>Hollywood Pantages театры, бұрын RKO Pantages ...</td>\n",
       "      <td>Pantages театры залының төбесін қандай америка...</td>\n",
       "      <td>Tiffany &amp; Company</td>\n",
       "    </tr>\n",
       "    <tr>\n",
       "      <th>44888</th>\n",
       "      <td>Трой Натан (1983 жылы 9 қазанда дүниеге келген...</td>\n",
       "      <td>Мастер жолы қай Жаңа Зеландияда туған евангели...</td>\n",
       "      <td>Ray Comfort</td>\n",
       "    </tr>\n",
       "  </tbody>\n",
       "</table>\n",
       "</div>"
      ],
      "text/plain": [
       "                                                 context  ...                                  answers_generated\n",
       "217    One Commerce Plaza, сонымен қатар егіз мұнарал...  ...                                 One Commerce Plaza\n",
       "267    Американдық Уолтхэм Сағат компаниясының тарихи...  ...                              Waltham Watch Company\n",
       "432    Халика - унитарлық универсалистер тойлайтын ме...  ...                          Montecito Picture Company\n",
       "483    Отлиле «Оти» Мабусе (1990 жылы 8 тамызда туған...  ...                              Strictly Come Dancing\n",
       "688    American Business Journal – ағымдағы бизнес та...  ...                              EP Charlton & Company\n",
       "1456   Elektor теледидар ойындарының компьютері (TVGC...  ...   Elektor TV Games Computer (TVGC) 1979 жылдан ...\n",
       "1503   Las Vegas Premium Outlets North - бұл 540 000 ...  ...            Woodbury Common Premium сауда нүктелері\n",
       "2233   HOY Regional — Хуануко қаласында шығатын Перу ...  ...                                Dow Jones & Company\n",
       "3379   2013 жылғы Англия кубогының финалы Англия кубо...  ...                          CBR Brewing Company, Inc.\n",
       "4274   Robot Chicken DC Comics Special — «Robot Chick...  ...                     Robot Chicken DC Comics Арнайы\n",
       "4403   Sony Xperia Z5 Compact - Sony шығарған Android...  ...                    Sony Mobile Communications Inc.\n",
       "5309   Джордж Альберт Смит Fieldhouse - Юта штатының ...  ...                           Marshall Field & Company\n",
       "6488   Джеймс Кэмерон - канадалық режиссер, сценарист...  ...                                     Commando Elite\n",
       "6872   Жаклин Келли - Жаңа Зеландияда туған американд...  ...                                        Ray Comfort\n",
       "8708   \"Жалғыз Рождестволық кеш\" - 2000 жылы шыққан \"...  ...                                            Comcast\n",
       "11591  Өрмекші адам: Үндістан – 2004 жылы Үндістанда ...  ...                              Strictly Come Dancing\n",
       "13419  Брайан Робинс Англияның Челтенхэм қаласында дү...  ...                                 Ford Motor Company\n",
       "13958  Air Tractor Inc. — Олниде, Техас қаласында орн...  ...                              Lincoln Motor Company\n",
       "14040  Мира Квин Байла! (] ; Ағылшынша: \"Look Who's D...  ...                              Strictly Come Dancing\n",
       "16231  Сет Хейли (Ком Труиз сахналық атымен белгілі) ...  ...                                         Com Truise\n",
       "16510  Navarro Discount Pharmacies, Inc., жиі Наварро...  ...                              The Boots Company Plc\n",
       "18321  Эрик Карлсон (1958 жылы 22 мамырда, Сиэтлде, В...  ...                  Chinas Comidas және The Screamers\n",
       "18768  The Walking Dead: Survival Instinct – бұл Term...  ...             Marvel Comics супер қаһарман командасы\n",
       "18956  2001 Florida Citrus Bowl - бұл 2001 жылдың 1 қ...  ...                                            CompUSA\n",
       "19238  Кейт Джонс – 2012 жылдың шілдесінен бастап Фил...  ...                                            Comcast\n",
       "19289  Орфеум театры - Миннеаполис қаласының орталығы...  ...                                  Tiffany & Company\n",
       "20314  Буэнос-Айрес және Ла Пампа ауылдық қауымдастық...  ...                                            Comcast\n",
       "24698  BlazBlue: Chrono Phantasma, Жапонияда BlazBlue...  ...                                        Digi-Comp I\n",
       "26191  Бернард Джон «Берни» Эбберс (1941 жылы 27 тамы...  ...                                           WorldCom\n",
       "26860  Pinnacle Airlines Corporation штаб-пәтері Тенн...  ...                                   Compass Airlines\n",
       "29940  Оңтүстік Каролина каналы және теміржол компани...  ...   JKWI Irvine, Warren, Kane & Johnsonburg Railr...\n",
       "30551  Interair South Africa ретінде саудаланған Inte...  ...                                             Comair\n",
       "31557  Жан Мишель Шлюмбергер (24 маусым, 1907 - 29 та...  ...                                  Tiffany & Company\n",
       "33121  Августин Томпсон (1835 жылдың 25 қарашасында О...  ...                    Kirin Holdings Company, Limited\n",
       "33841  Robot Chicken: Star Wars III эпизод (сонымен қ...  ...                     Robot Chicken DC Comics Арнайы\n",
       "34482  «Клаус пен Грета» — америкалық «30 рок» телеко...  ...                                            Comcast\n",
       "34722  Microsoft Device Emulator — Windows Mobile нег...  ...                              AsusTek Computer Inc.\n",
       "35755  Джон Ф.А.Сэнфорд (1806-1857) американдық батыс...  ...   Hudson's Bay компаниясы (HBC; французша: «Com...\n",
       "36251  Subiaco Oval (; қазіргі уақытта домен стадионы...  ...                                             Combat\n",
       "37171  Козерог Хизер Линн мен Кирстен Нординнен тұрат...  ...                           Casio Computer Co., Ltd.\n",
       "37773  Continental Mark VII, кейінірек Lincoln Mark V...  ...                              Lincoln Motor Company\n",
       "39947  Furby - 1998 жылы Tiger Electronics шығарған а...  ...                              Waltham Watch Company\n",
       "41107  Шабуыл (бұрынғы аты Жиһад) - бұл DC Comics шығ...  ...                             Grand Comics дерекқоры\n",
       "43100  Мұз үстінде билеу - бүкіл әлемде шығарылған бр...  ...                              Strictly Come Dancing\n",
       "43608  Норман Джин Макдональд (1959 жылы 17 қазанда т...  ...   Comedy Central оны бес бөлімнен тұратын «Барл...\n",
       "44530  Hollywood Pantages театры, бұрын RKO Pantages ...  ...                                  Tiffany & Company\n",
       "44888  Трой Натан (1983 жылы 9 қазанда дүниеге келген...  ...                                        Ray Comfort\n",
       "\n",
       "[47 rows x 3 columns]"
      ]
     },
     "execution_count": 18,
     "metadata": {},
     "output_type": "execute_result"
    }
   ],
   "source": [
    "df[df['answers_generated'].str.contains('Com')]"
   ]
  },
  {
   "cell_type": "code",
   "execution_count": null,
   "metadata": {},
   "outputs": [],
   "source": [
    "# Com', ' Tru', 'ise"
   ]
  }
 ],
 "metadata": {
  "kernelspec": {
   "display_name": "llm",
   "language": "python",
   "name": "python3"
  },
  "language_info": {
   "codemirror_mode": {
    "name": "ipython",
    "version": 3
   },
   "file_extension": ".py",
   "mimetype": "text/x-python",
   "name": "python",
   "nbconvert_exporter": "python",
   "pygments_lexer": "ipython3",
   "version": "3.10.14"
  }
 },
 "nbformat": 4,
 "nbformat_minor": 2
}
